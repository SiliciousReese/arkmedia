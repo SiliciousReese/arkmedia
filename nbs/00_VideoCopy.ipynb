{
 "cells": [
  {
   "cell_type": "code",
   "execution_count": null,
   "metadata": {},
   "outputs": [],
   "source": [
    "# default_exp VideoCopy"
   ]
  },
  {
   "cell_type": "markdown",
   "metadata": {},
   "source": [
    "# VideoCopy\n",
    "## Will copy a video provided either a db entry or video link and a target server\n",
    "\n",
    "> API details."
   ]
  },
  {
   "cell_type": "code",
   "execution_count": null,
   "metadata": {},
   "outputs": [],
   "source": [
    "#hide\n",
    "from nbdev.showdoc import *"
   ]
  },
  {
   "cell_type": "markdown",
   "metadata": {},
   "source": [
    "### Required libraries"
   ]
  },
  {
   "cell_type": "code",
   "execution_count": null,
   "metadata": {},
   "outputs": [],
   "source": [
    "#export\n",
    "from pytube import YouTube\n",
    "import psycopg2 as psql\n",
    "import argparse"
   ]
  },
  {
   "cell_type": "code",
   "execution_count": null,
   "metadata": {},
   "outputs": [],
   "source": [
    "#export\n",
    "class Video:\n",
    "    link=\"\"\n",
    "    workingdir = \".\"\n",
    "    def start(self):\n",
    "        print(\"ToDo\")\n",
    "        self.fixLink()\n",
    "        \n",
    "    def fixLink(self):\n",
    "        pass\n",
    "    \n"
   ]
  },
  {
   "cell_type": "code",
   "execution_count": null,
   "metadata": {},
   "outputs": [],
   "source": [
    "#export\n",
    "class YTVideo(Video):\n",
    "    VID_ORDER = {0:'avc', 1:'vp9'}\n",
    "    def __init__(self,filename = \"temp\", ytlink=\"\", tube: YouTube = None):\n",
    "        self.vid = None\n",
    "        self.tempfilename = filename\n",
    "        if not tube is None:\n",
    "            self.vid = tube\n",
    "        elif ytlink:\n",
    "            self.link=ytlink\n",
    "            self.fixLink()\n",
    "            self.vid = YouTube(self.link)\n",
    "            \n",
    "        self.streams = {}\n",
    "        self.captions = {}\n",
    "        self.tempfiles = []\n",
    "        \n",
    "    def start(self):\n",
    "        super().start()\n",
    "    \n",
    "    def fixLink(self):\n",
    "        if not \"https://www.youtube.com/\" in self.link:\n",
    "            print(\"Not YT\")\n",
    "    def parseStreams(self):\n",
    "        self.streams['v'] = self.pickVid()\n",
    "        self.streams['a'] = self.pickAudio()\n",
    "        self.captions = self.parseCaptions()\n",
    "        \n",
    "        \n",
    "    def pickVid(self):\n",
    "        s = self.vid.streams\n",
    "\n",
    "        #Filter out video streams, pick the \"best\" one by resolution, fps, and codec\n",
    "        maxres = str(max([int((x.resolution or '000')[:-1]) for x in s.filter(only_video=True)]))+'p'\n",
    "        #print(\"Max Res: \", maxres)\n",
    "        maxfps = max([x.fps for x in s.filter(only_video=True,res=maxres)])\n",
    "        #print(\"Max FPS: \", maxfps)\n",
    "        cstreams = s.filter(only_video=True,res=maxres,fps=maxfps)\n",
    "        #itags_bycodec = {x:0 for x in self.VID_ORDER.values()}\n",
    "        #print(self.VID_ORDER)\n",
    "        itag = 0\n",
    "        for cd in self.VID_ORDER:\n",
    "            if itag:\n",
    "                break\n",
    "            for st in cstreams:\n",
    "                #print(self.VID_ORDER[cd])\n",
    "                if self.VID_ORDER[cd] in st.video_codec:\n",
    "                    #print(\"Picking: \", st.itag,st.video_codec)\n",
    "                    itag = st.itag\n",
    "                    break\n",
    "                print (st.itag,st.video_codec)\n",
    "        return s.itag_index[itag]\n",
    "\n",
    "    def pickAudio(self):\n",
    "        #Filter out audio stream, pick the \"best\" on by audio bit rate\n",
    "        #picks first best codec, FIXME\n",
    "        s = self.vid.streams\n",
    "        maxadp = max([int(x.abr[:-4]) for x in s.filter(only_audio=True)])\n",
    "        #print(maxadp)\n",
    "        astreams = s.filter(only_audio=True, abr=str(maxadp)+\"kbps\")\n",
    "        #print(astreams[0])\n",
    "        return astreams[0]\n",
    "    \n",
    "    def parseCaptions(self):\n",
    "        caps = {}\n",
    "        for t in self.vid.caption_tracks:\n",
    "            lang = t.code\n",
    "            if \"auto\" in t.name:\n",
    "                #print(\"auto\")\n",
    "                lang = 'a-' + lang\n",
    "            #print(lang)\n",
    "            caps[lang] = t\n",
    "        return caps\n",
    "    \n",
    "    def downloadStreams(self):\n",
    "        for s in self.streams:\n",
    "            print (s,self.streams[s])\n",
    "            self.streams[s].download()\n",
    "        for c in self.captions:\n",
    "            print(c,self.captions[c])\n",
    "            self.captions[c].download(prefix=c,title = tempfilename,output_path = temppath)\n",
    "        "
   ]
  },
  {
   "cell_type": "markdown",
   "metadata": {},
   "source": [
    "### Use as a standalone/ on the command line\n",
    "Or also from inside the notebook"
   ]
  },
  {
   "cell_type": "code",
   "execution_count": null,
   "metadata": {},
   "outputs": [
    {
     "name": "stdout",
     "output_type": "stream",
     "text": [
      "ToDo\n"
     ]
    }
   ],
   "source": [
    "testlink=\"https://www.youtube.com/watch?v=S32L8ULLy94\"\n",
    "job = YTVideo(ytlink=testlink)\n",
    "#job.parseStreams()\n",
    "jobvid = job.vid\n",
    "job.start()"
   ]
  },
  {
   "cell_type": "markdown",
   "metadata": {},
   "source": [
    "Polling youtube in the constructor takes the most time, reinitialize with the Youtube object and remake the class. Use this to update a class object and run commands against it."
   ]
  },
  {
   "cell_type": "code",
   "execution_count": null,
   "metadata": {},
   "outputs": [
    {
     "name": "stdout",
     "output_type": "stream",
     "text": [
      ".\n"
     ]
    }
   ],
   "source": [
    "#hide\n",
    "job = YTVideo(tube=job.vid)\n",
    "#job.parseStreams()\n",
    "job.parseStreams()\n",
    "#job.downloadStreams()\n",
    "print(job.workingdir)\n"
   ]
  },
  {
   "cell_type": "code",
   "execution_count": null,
   "metadata": {},
   "outputs": [
    {
     "name": "stdout",
     "output_type": "stream",
     "text": [
      "[<Stream: itag=\"137\" mime_type=\"video/mp4\" res=\"1080p\" fps=\"30fps\" vcodec=\"avc1.640028\" progressive=\"False\" type=\"video\">, <Stream: itag=\"248\" mime_type=\"video/webm\" res=\"1080p\" fps=\"30fps\" vcodec=\"vp9\" progressive=\"False\" type=\"video\">, <Stream: itag=\"399\" mime_type=\"video/mp4\" res=\"None\" fps=\"30fps\" vcodec=\"av01.0.08M.08\" progressive=\"False\" type=\"video\">, <Stream: itag=\"136\" mime_type=\"video/mp4\" res=\"720p\" fps=\"30fps\" vcodec=\"avc1.4d401f\" progressive=\"False\" type=\"video\">, <Stream: itag=\"247\" mime_type=\"video/webm\" res=\"720p\" fps=\"30fps\" vcodec=\"vp9\" progressive=\"False\" type=\"video\">, <Stream: itag=\"398\" mime_type=\"video/mp4\" res=\"None\" fps=\"30fps\" vcodec=\"av01.0.05M.08\" progressive=\"False\" type=\"video\">, <Stream: itag=\"135\" mime_type=\"video/mp4\" res=\"480p\" fps=\"30fps\" vcodec=\"avc1.4d401f\" progressive=\"False\" type=\"video\">, <Stream: itag=\"244\" mime_type=\"video/webm\" res=\"480p\" fps=\"30fps\" vcodec=\"vp9\" progressive=\"False\" type=\"video\">, <Stream: itag=\"397\" mime_type=\"video/mp4\" res=\"None\" fps=\"30fps\" vcodec=\"av01.0.04M.08\" progressive=\"False\" type=\"video\">, <Stream: itag=\"134\" mime_type=\"video/mp4\" res=\"360p\" fps=\"30fps\" vcodec=\"avc1.4d401e\" progressive=\"False\" type=\"video\">, <Stream: itag=\"243\" mime_type=\"video/webm\" res=\"360p\" fps=\"30fps\" vcodec=\"vp9\" progressive=\"False\" type=\"video\">, <Stream: itag=\"396\" mime_type=\"video/mp4\" res=\"None\" fps=\"30fps\" vcodec=\"av01.0.01M.08\" progressive=\"False\" type=\"video\">, <Stream: itag=\"133\" mime_type=\"video/mp4\" res=\"240p\" fps=\"30fps\" vcodec=\"avc1.4d4015\" progressive=\"False\" type=\"video\">, <Stream: itag=\"242\" mime_type=\"video/webm\" res=\"240p\" fps=\"30fps\" vcodec=\"vp9\" progressive=\"False\" type=\"video\">, <Stream: itag=\"395\" mime_type=\"video/mp4\" res=\"None\" fps=\"30fps\" vcodec=\"av01.0.00M.08\" progressive=\"False\" type=\"video\">, <Stream: itag=\"160\" mime_type=\"video/mp4\" res=\"144p\" fps=\"30fps\" vcodec=\"avc1.4d400c\" progressive=\"False\" type=\"video\">, <Stream: itag=\"278\" mime_type=\"video/webm\" res=\"144p\" fps=\"30fps\" vcodec=\"vp9\" progressive=\"False\" type=\"video\">, <Stream: itag=\"394\" mime_type=\"video/mp4\" res=\"None\" fps=\"30fps\" vcodec=\"av01.0.00M.08\" progressive=\"False\" type=\"video\">]\n"
     ]
    }
   ],
   "source": [
    "s = job.vid.streams\n",
    "print([x for x in s.filter(only_video=True)])\n",
    "maxres = max([int((x.resolution or '000')[:-1]) for x in s.filter(only_video=True)])"
   ]
  },
  {
   "cell_type": "code",
   "execution_count": null,
   "metadata": {},
   "outputs": [
    {
     "name": "stdout",
     "output_type": "stream",
     "text": [
      "0 <Stream: itag=\"137\" mime_type=\"video/mp4\" res=\"1080p\" fps=\"30fps\" vcodec=\"avc1.640028\" progressive=\"False\" type=\"video\">\n",
      "1 <Stream: itag=\"248\" mime_type=\"video/webm\" res=\"1080p\" fps=\"30fps\" vcodec=\"vp9\" progressive=\"False\" type=\"video\">\n",
      "2 <Stream: itag=\"399\" mime_type=\"video/mp4\" res=\"None\" fps=\"30fps\" vcodec=\"av01.0.08M.08\" progressive=\"False\" type=\"video\">\n",
      "3 <Stream: itag=\"136\" mime_type=\"video/mp4\" res=\"720p\" fps=\"30fps\" vcodec=\"avc1.4d401f\" progressive=\"False\" type=\"video\">\n",
      "4 <Stream: itag=\"247\" mime_type=\"video/webm\" res=\"720p\" fps=\"30fps\" vcodec=\"vp9\" progressive=\"False\" type=\"video\">\n",
      "5 <Stream: itag=\"398\" mime_type=\"video/mp4\" res=\"None\" fps=\"30fps\" vcodec=\"av01.0.05M.08\" progressive=\"False\" type=\"video\">\n",
      "6 <Stream: itag=\"135\" mime_type=\"video/mp4\" res=\"480p\" fps=\"30fps\" vcodec=\"avc1.4d401f\" progressive=\"False\" type=\"video\">\n",
      "7 <Stream: itag=\"244\" mime_type=\"video/webm\" res=\"480p\" fps=\"30fps\" vcodec=\"vp9\" progressive=\"False\" type=\"video\">\n",
      "8 <Stream: itag=\"397\" mime_type=\"video/mp4\" res=\"None\" fps=\"30fps\" vcodec=\"av01.0.04M.08\" progressive=\"False\" type=\"video\">\n",
      "9 <Stream: itag=\"134\" mime_type=\"video/mp4\" res=\"360p\" fps=\"30fps\" vcodec=\"avc1.4d401e\" progressive=\"False\" type=\"video\">\n",
      "10 <Stream: itag=\"243\" mime_type=\"video/webm\" res=\"360p\" fps=\"30fps\" vcodec=\"vp9\" progressive=\"False\" type=\"video\">\n",
      "11 <Stream: itag=\"396\" mime_type=\"video/mp4\" res=\"None\" fps=\"30fps\" vcodec=\"av01.0.01M.08\" progressive=\"False\" type=\"video\">\n",
      "12 <Stream: itag=\"133\" mime_type=\"video/mp4\" res=\"240p\" fps=\"30fps\" vcodec=\"avc1.4d4015\" progressive=\"False\" type=\"video\">\n",
      "13 <Stream: itag=\"242\" mime_type=\"video/webm\" res=\"240p\" fps=\"30fps\" vcodec=\"vp9\" progressive=\"False\" type=\"video\">\n",
      "14 <Stream: itag=\"395\" mime_type=\"video/mp4\" res=\"None\" fps=\"30fps\" vcodec=\"av01.0.00M.08\" progressive=\"False\" type=\"video\">\n",
      "15 <Stream: itag=\"160\" mime_type=\"video/mp4\" res=\"144p\" fps=\"30fps\" vcodec=\"avc1.4d400c\" progressive=\"False\" type=\"video\">\n",
      "16 <Stream: itag=\"278\" mime_type=\"video/webm\" res=\"144p\" fps=\"30fps\" vcodec=\"vp9\" progressive=\"False\" type=\"video\">\n",
      "17 <Stream: itag=\"394\" mime_type=\"video/mp4\" res=\"None\" fps=\"30fps\" vcodec=\"av01.0.00M.08\" progressive=\"False\" type=\"video\">\n"
     ]
    }
   ],
   "source": [
    "for c, s in enumerate(job.vid.streams.filter(only_video=True)):\n",
    "    print (c,s)"
   ]
  },
  {
   "cell_type": "code",
   "execution_count": null,
   "metadata": {},
   "outputs": [],
   "source": [
    "# export\n",
    "def parseCLI():\n",
    "    progname = \"VideoCopy\"\n",
    "    par = argparse.ArgumentParser(progname)\n",
    "    \n",
    "    par.add_argument(\"-v\", help=\"Link to video\")\n",
    "    args = par.parse_args()\n",
    "    \n",
    "    return None\n"
   ]
  },
  {
   "cell_type": "code",
   "execution_count": null,
   "metadata": {},
   "outputs": [
    {
     "name": "stderr",
     "output_type": "stream",
     "text": [
      "usage: VideoCopy [-h] [-v V]\n",
      "VideoCopy: error: unrecognized arguments: -f /home/jupyter/.local/share/jupyter/runtime/kernel-425e29af-6ea2-44ad-9980-00cc2db03914.json\n"
     ]
    },
    {
     "ename": "SystemExit",
     "evalue": "2",
     "output_type": "error",
     "traceback": [
      "An exception has occurred, use %tb to see the full traceback.\n",
      "\u001b[0;31mSystemExit\u001b[0m\u001b[0;31m:\u001b[0m 2\n"
     ]
    }
   ],
   "source": [
    "# export\n",
    "# notest\n",
    "#print(__name__)\n",
    "if __name__ == \"__main__\":\n",
    "    job = parseCLI()\n",
    "    if job:\n",
    "        pass\n",
    "        #job.start    "
   ]
  }
 ],
 "metadata": {
  "kernelspec": {
   "display_name": "Python 3",
   "language": "python",
   "name": "python3"
  }
 },
 "nbformat": 4,
 "nbformat_minor": 4
}
